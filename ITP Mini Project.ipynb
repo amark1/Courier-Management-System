{
 "cells": [
  {
   "cell_type": "markdown",
   "metadata": {},
   "source": [
    "**Q1. Create a Dictionary of lists to store the information of shipments given in the table**"
   ]
  },
  {
   "cell_type": "code",
   "execution_count": 1,
   "metadata": {},
   "outputs": [
    {
     "data": {
      "text/plain": [
       "{101: [1, 3, '14-03-2020', '25-03-2020', 'Area1', 'Area6', 'Delivered', 198],\n",
       " 102: [4, 1, '18-06-2020', '09-07-2020', 'Area2', 'Area4', 'Delivered', 275],\n",
       " 103: [2, 3, '01-12-2020', 'Null', 'Area5', 'Area1', 'In-Transit', 200],\n",
       " 104: [1, 5, '23-06-2020', '25-06-2020', 'Area1', 'Area4', 'Delivered', 314],\n",
       " 105: [3, 4, '29-08-2020', '10-09-2020', 'Area5', 'Area3', 'Delivered', 275],\n",
       " 106: [5, 2, '28-06-2020', 'Null', 'Area3', 'Area1', 'In-Transit', 270]}"
      ]
     },
     "execution_count": 1,
     "metadata": {},
     "output_type": "execute_result"
    }
   ],
   "source": [
    "shipment_id = [101, 102, 103, 104, 105, 106]\n",
    "sender = [1, 4, 2, 1, 3, 5]\n",
    "receiver = [3, 1, 3, 5, 4, 2]\n",
    "start_date = ['14-03-2020', '18-06-2020', '01-12-2020', '23-06-2020', '29-08-2020', '28-06-2020']\n",
    "delivery_date = ['25-03-2020', '09-07-2020', 'Null', '25-06-2020', '10-09-2020', 'Null']\n",
    "sender_location = ['Area1', 'Area2', 'Area5', 'Area1', 'Area5', 'Area3']\n",
    "receiver_location = ['Area6', 'Area4', 'Area1', 'Area4', 'Area3', 'Area1']\n",
    "delivery_status = ['Delivered', 'Delivered', 'In-Transit', 'Delivered', 'Delivered', 'In-Transit']\n",
    "shipping_cost = [198, 275, 200, 314, 275, 270]\n",
    "dictionary = {}\n",
    "dictionary.update({shipment_id[a]:[sender[a],receiver[a],start_date[a],delivery_date[a],sender_location[a],receiver_location[a],delivery_status[a],shipping_cost[a]] for a in range (0, 6)})\n",
    "dictionary"
   ]
  },
  {
   "cell_type": "markdown",
   "metadata": {},
   "source": [
    "**Q2. Create a Dictionary of to store the information of clients given in the table.**"
   ]
  },
  {
   "cell_type": "code",
   "execution_count": 2,
   "metadata": {},
   "outputs": [
    {
     "name": "stdout",
     "output_type": "stream",
     "text": [
      "{1: 'Phillip', 2: 'Omega III', 3: 'Ramya', 4: 'Romesh', 5: 'John'}\n"
     ]
    }
   ],
   "source": [
    "client_id = [1, 2, 3, 4, 5]\n",
    "client_name = ['Phillip', 'Omega III', 'Ramya', 'Romesh', 'John']\n",
    "client_dict = dict(zip(client_id,client_name))\n",
    "print(client_dict)"
   ]
  },
  {
   "cell_type": "markdown",
   "metadata": {},
   "source": [
    "**Q3. Write a code to replace client’s id with their respective name in shipment dictionary using a loop and dictionary comprehension**"
   ]
  },
  {
   "cell_type": "code",
   "execution_count": 3,
   "metadata": {},
   "outputs": [
    {
     "name": "stdout",
     "output_type": "stream",
     "text": [
      "101 : ['Phillip', 'Ramya', '14-03-2020', '25-03-2020', 'Area1', 'Area6', 'Delivered', 198]\n",
      "102 : ['Romesh', 'Phillip', '18-06-2020', '09-07-2020', 'Area2', 'Area4', 'Delivered', 275]\n",
      "103 : ['Omega III', 'Ramya', '01-12-2020', 'Null', 'Area5', 'Area1', 'In-Transit', 200]\n",
      "104 : ['Phillip', 'John', '23-06-2020', '25-06-2020', 'Area1', 'Area4', 'Delivered', 314]\n",
      "105 : ['Ramya', 'Romesh', '29-08-2020', '10-09-2020', 'Area5', 'Area3', 'Delivered', 275]\n",
      "106 : ['John', 'Omega III', '28-06-2020', 'Null', 'Area3', 'Area1', 'In-Transit', 270]\n"
     ]
    }
   ],
   "source": [
    "sender_updated = [client_dict[c] for b in range (0,6) for c in client_id if sender[b]==c]\n",
    "receiver_updated = [client_dict[e] for d in range (0,6) for e in client_id if receiver[d]==e]\n",
    "dictionary.update({shipment_id[f]:[sender_updated[f],receiver_updated[f],start_date[f],delivery_date[f],sender_location[f],receiver_location[f],delivery_status[f],shipping_cost[f]] for f in range (0, 6)})\n",
    "for i in dictionary:\n",
    "    print(i,\":\",dictionary[i])"
   ]
  },
  {
   "cell_type": "markdown",
   "metadata": {},
   "source": [
    "**Q4. Print all shipment details that are sent by Phillip**"
   ]
  },
  {
   "cell_type": "code",
   "execution_count": 4,
   "metadata": {},
   "outputs": [
    {
     "name": "stdout",
     "output_type": "stream",
     "text": [
      "Shipments that are sent by Phillip :\n",
      "101 : ['Phillip', 'Ramya', '14-03-2020', '25-03-2020', 'Area1', 'Area6', 'Delivered', 198]\n",
      "104 : ['Phillip', 'John', '23-06-2020', '25-06-2020', 'Area1', 'Area4', 'Delivered', 314]\n"
     ]
    }
   ],
   "source": [
    "print(\"Shipments that are sent by Phillip :\")\n",
    "for i in dictionary:\n",
    "    if dictionary[i][0]=='Phillip':\n",
    "        print(i,\":\",dictionary[i])"
   ]
  },
  {
   "cell_type": "markdown",
   "metadata": {},
   "source": [
    "**Q5. Print all shipment details that are received by Ramya**"
   ]
  },
  {
   "cell_type": "code",
   "execution_count": 5,
   "metadata": {},
   "outputs": [
    {
     "name": "stdout",
     "output_type": "stream",
     "text": [
      "Shipments that are received by Ramya :\n",
      "101 : ['Phillip', 'Ramya', '14-03-2020', '25-03-2020', 'Area1', 'Area6', 'Delivered', 198]\n",
      "103 : ['Omega III', 'Ramya', '01-12-2020', 'Null', 'Area5', 'Area1', 'In-Transit', 200]\n"
     ]
    }
   ],
   "source": [
    "print(\"Shipments that are received by Ramya :\")\n",
    "for i in dictionary:\n",
    "    if dictionary[i][1]=='Ramya':\n",
    "        print(i,\":\",dictionary[i])"
   ]
  },
  {
   "cell_type": "markdown",
   "metadata": {},
   "source": [
    "**Q6. Print all shipments which are in 'In-Transit' status**"
   ]
  },
  {
   "cell_type": "code",
   "execution_count": 6,
   "metadata": {},
   "outputs": [
    {
     "name": "stdout",
     "output_type": "stream",
     "text": [
      "Shipments which are in 'In-Transit' status :\n",
      "103 : ['Omega III', 'Ramya', '01-12-2020', 'Null', 'Area5', 'Area1', 'In-Transit', 200]\n",
      "106 : ['John', 'Omega III', '28-06-2020', 'Null', 'Area3', 'Area1', 'In-Transit', 270]\n"
     ]
    }
   ],
   "source": [
    "print(\"Shipments which are in 'In-Transit' status :\")\n",
    "for i in dictionary:\n",
    "    if dictionary[i][6]=='In-Transit':\n",
    "        print(i,\":\",dictionary[i])"
   ]
  },
  {
   "cell_type": "markdown",
   "metadata": {},
   "source": [
    "**Q7. Print all shipments which are delivered within 7 days of courier Start date**"
   ]
  },
  {
   "cell_type": "code",
   "execution_count": 7,
   "metadata": {},
   "outputs": [
    {
     "name": "stdout",
     "output_type": "stream",
     "text": [
      "Shipments delivered within 7 days of courier Start date :\n",
      "104 : ['Phillip', 'John', '23-06-2020', '25-06-2020', 'Area1', 'Area4', 'Delivered', 314]\n"
     ]
    }
   ],
   "source": [
    "from datetime import datetime as dt\n",
    "print(\"Shipments delivered within 7 days of courier Start date :\")\n",
    "for j in dictionary:\n",
    "    if(dictionary[j][3] != 'Null'):\n",
    "        diff = (dt.strptime(dictionary[j][3], '%d-%m-%Y') - dt.strptime(dictionary[j][2], '%d-%m-%Y'))\n",
    "    else:\n",
    "        diff = (dt.today() - dt.strptime(dictionary[i][2], '%d-%m-%Y'))\n",
    "    if diff.days <7:\n",
    "        print(j,\":\",dictionary[j])"
   ]
  },
  {
   "cell_type": "markdown",
   "metadata": {},
   "source": [
    "**Q8. Print all shipments which are delivered after 15 days of courier start date or not yet been delivered**"
   ]
  },
  {
   "cell_type": "code",
   "execution_count": 8,
   "metadata": {},
   "outputs": [
    {
     "name": "stdout",
     "output_type": "stream",
     "text": [
      "Shipments delivered after 15 days of courier start date or not yet been delivered :\n",
      "102 : ['Romesh', 'Phillip', '18-06-2020', '09-07-2020', 'Area2', 'Area4', 'Delivered', 275]\n",
      "103 : ['Omega III', 'Ramya', '01-12-2020', 'Null', 'Area5', 'Area1', 'In-Transit', 200]\n",
      "106 : ['John', 'Omega III', '28-06-2020', 'Null', 'Area3', 'Area1', 'In-Transit', 270]\n"
     ]
    }
   ],
   "source": [
    "print(\"Shipments delivered after 15 days of courier start date or not yet been delivered :\")\n",
    "for i in dictionary:\n",
    "    if(dictionary[i][3] != 'Null'):\n",
    "        diff = (dt.strptime(dictionary[i][3], '%d-%m-%Y') - dt.strptime(dictionary[i][2], '%d-%m-%Y'))\n",
    "    else:\n",
    "        diff = (dt.today() - dt.strptime(dictionary[i][2], '%d-%m-%Y'))\n",
    "    if diff.days >15:\n",
    "        print(i,\":\",dictionary[i])"
   ]
  },
  {
   "cell_type": "markdown",
   "metadata": {},
   "source": [
    "**Q 9. Write a function find_all_routes to display all possible routes from senders location to receivers location given in the dictionary for each shipment**"
   ]
  },
  {
   "cell_type": "code",
   "execution_count": 9,
   "metadata": {},
   "outputs": [
    {
     "name": "stdout",
     "output_type": "stream",
     "text": [
      "Shipment Id:  101\n",
      "Sender's Location 1\n",
      "Receiver's Location 6\n",
      "All possible routes : \n",
      "[1, 6]\n",
      "-----------------------------------\n",
      "Shipment Id:  102\n",
      "Sender's Location 2\n",
      "Receiver's Location 4\n",
      "All possible routes : \n",
      "[2, 3, 4]\n",
      "[2, 4]\n",
      "-----------------------------------\n",
      "Shipment Id:  103\n",
      "Sender's Location 5\n",
      "Receiver's Location 1\n",
      "All possible routes : \n",
      "[5, 4, 2, 1]\n",
      "[5, 4, 3, 2, 1]\n",
      "-----------------------------------\n",
      "Shipment Id:  104\n",
      "Sender's Location 1\n",
      "Receiver's Location 4\n",
      "All possible routes : \n",
      "[1, 2, 3, 4]\n",
      "[1, 2, 4]\n",
      "-----------------------------------\n",
      "Shipment Id:  105\n",
      "Sender's Location 5\n",
      "Receiver's Location 3\n",
      "All possible routes : \n",
      "[5, 4, 2, 3]\n",
      "[5, 4, 3]\n",
      "-----------------------------------\n",
      "Shipment Id:  106\n",
      "Sender's Location 3\n",
      "Receiver's Location 1\n",
      "All possible routes : \n",
      "[3, 2, 1]\n",
      "[3, 4, 2, 1]\n",
      "-----------------------------------\n"
     ]
    }
   ],
   "source": [
    "def find_all_routes(matrix,u,d,visited,path):\n",
    "    visited[u]= True\n",
    "    path.append(u+1)\n",
    "    if u == d:\n",
    "        print(path)\n",
    "    else:\n",
    "        for i in range(6):\n",
    "            if matrix[u][i] == 1 and (visited[i]== False):\n",
    "                find_all_routes(matrix,i, d, visited, path)\n",
    "    path.pop()\n",
    "    visited[u]= False\n",
    "\n",
    "matrix = [[0,1,0,0,0,1],[1,0,1,1,0,0],[0,1,0,1,0,0],[0,1,1,0,1,0],[0,0,0,1,0,0],[1,0,0,0,0,0]]\n",
    "visited=[False for i in range(6)]\n",
    "path = []\n",
    "\n",
    "def Show_all(ship):\n",
    "    for i in ship:\n",
    "        print('Shipment Id: ',i)\n",
    "        s = int(ship[i][4][-1])\n",
    "        print(\"Sender's Location\" , s)\n",
    "        r = int(ship[i][5][-1])\n",
    "        print(\"Receiver's Location\" , r)\n",
    "        print('All possible routes : ')\n",
    "        find_all_routes(matrix,s-1,r-1,visited,path)\n",
    "        print('-----------------------------------')\n",
    "\n",
    "Show_all(dictionary)"
   ]
  }
 ],
 "metadata": {
  "kernelspec": {
   "display_name": "Python 3",
   "language": "python",
   "name": "python3"
  },
  "language_info": {
   "codemirror_mode": {
    "name": "ipython",
    "version": 3
   },
   "file_extension": ".py",
   "mimetype": "text/x-python",
   "name": "python",
   "nbconvert_exporter": "python",
   "pygments_lexer": "ipython3",
   "version": "3.8.5"
  }
 },
 "nbformat": 4,
 "nbformat_minor": 4
}
